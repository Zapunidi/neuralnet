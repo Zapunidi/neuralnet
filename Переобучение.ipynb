{
 "cells": [
  {
   "cell_type": "code",
   "execution_count": 1,
   "metadata": {},
   "outputs": [
    {
     "name": "stderr",
     "output_type": "stream",
     "text": [
      "WARNING: Logging before flag parsing goes to stderr.\n",
      "W1025 19:32:02.516133  8596 deprecation.py:506] From C:\\Users\\Artem\\Anaconda3\\lib\\site-packages\\tensorflow\\python\\ops\\init_ops.py:1251: calling VarianceScaling.__init__ (from tensorflow.python.ops.init_ops) with dtype is deprecated and will be removed in a future version.\n",
      "Instructions for updating:\n",
      "Call initializer instance with the dtype argument instead of passing it to the constructor\n"
     ]
    },
    {
     "name": "stdout",
     "output_type": "stream",
     "text": [
      "Epoch 1/5\n",
      "60000/60000 [==============================] - 37s 614us/sample - loss: 0.2301 - acc: 0.9329\n",
      "Epoch 2/5\n",
      "60000/60000 [==============================] - 35s 581us/sample - loss: 0.1166 - acc: 0.9682\n",
      "Epoch 3/5\n",
      "60000/60000 [==============================] - 37s 612us/sample - loss: 0.0878 - acc: 0.9764\n",
      "Epoch 4/5\n",
      "60000/60000 [==============================] - 36s 596us/sample - loss: 0.0713 - acc: 0.9808\n",
      "Epoch 5/5\n",
      "60000/60000 [==============================] - 37s 625us/sample - loss: 0.0580 - acc: 0.9839\n",
      "10000/10000 [==============================] - 2s 211us/sample - loss: 0.1319 - acc: 0.9729\n"
     ]
    },
    {
     "data": {
      "text/plain": [
       "[0.13188342308936846, 0.9729]"
      ]
     },
     "execution_count": 1,
     "metadata": {},
     "output_type": "execute_result"
    }
   ],
   "source": [
    "import tensorflow as tf\n",
    "import matplotlib.pyplot as plt\n",
    "from matplotlib import pyplot\n",
    "from sklearn.model_selection import train_test_split\n",
    "mnist = tf.keras.datasets.mnist\n",
    "(x_train, y_train),(x_test, y_test) = mnist.load_data()\n",
    "x_train, x_test = x_train / 255.0, x_test / 255.0\n",
    "model = tf.keras.models.Sequential([\n",
    "tf.keras.layers.Flatten(input_shape=(28, 28)),\n",
    "tf.keras.layers.Dense(512, activation=tf.nn.relu),\n",
    "#tf.keras.layers.Dropout(0.2),\n",
    "tf.keras.layers.Dense(512, activation=tf.nn.relu),\n",
    "tf.keras.layers.Dense(512, activation=tf.nn.relu),\n",
    "#tf.keras.layers.Dense(512, activation=tf.nn.relu),\n",
    "#tf.keras.layers.Dense(512, activation=tf.nn.relu),\n",
    "tf.keras.layers.Dense(512, activation=tf.nn.relu),\n",
    "tf.keras.layers.Dense(512, activation=tf.nn.relu),\n",
    "#tf.keras.layers.Dropout(0.2),\n",
    "tf.keras.layers.Dense(10, activation=tf.nn.softmax)\n",
    "])\n",
    "model.compile(optimizer='adam',\n",
    "loss='sparse_categorical_crossentropy',\n",
    "metrics=['accuracy'])\n",
    "model.fit(x_train, y_train, epochs=5)\n",
    "model.evaluate(x_test, y_test, verbose=1)"
   ]
  },
  {
   "cell_type": "code",
   "execution_count": 16,
   "metadata": {},
   "outputs": [],
   "source": [
    "model.compile(optimizer=tf.train.AdamOptimizer(0.001),\n",
    "              loss=tf.keras.losses.sparse_categorical_crossentropy,\n",
    "              metrics=['accuracy'])"
   ]
  },
  {
   "cell_type": "code",
   "execution_count": 17,
   "metadata": {},
   "outputs": [
    {
     "name": "stdout",
     "output_type": "stream",
     "text": [
      "10000/10000 [==============================] - 2s 174us/sample - loss: 0.2537 - acc: 0.9475\n",
      "Loss = 0.25365219219699503, accuracy = 0.9474999904632568\n"
     ]
    }
   ],
   "source": [
    "loss, acc = model.evaluate(x_test, y_test)\n",
    "print(\"Loss = {}, accuracy = {}\".format(loss, acc))"
   ]
  },
  {
   "cell_type": "code",
   "execution_count": 18,
   "metadata": {},
   "outputs": [
    {
     "name": "stdout",
     "output_type": "stream",
     "text": [
      "60000/60000 [==============================] - 10s 164us/sample - loss: 0.1929 - acc: 0.9560\n",
      "Loss = 0.19288722769195835, accuracy = 0.9560333490371704\n"
     ]
    }
   ],
   "source": [
    "loss, acc = model.evaluate(x_train, y_train)\n",
    "print(\"Loss = {}, accuracy = {}\".format(loss, acc))"
   ]
  },
  {
   "cell_type": "code",
   "execution_count": 19,
   "metadata": {},
   "outputs": [
    {
     "name": "stdout",
     "output_type": "stream",
     "text": [
      "Train on 60000 samples, validate on 10000 samples\n",
      "Epoch 1/5\n",
      "60000/60000 [==============================] - 35s 584us/sample - loss: 0.1030 - acc: 0.9750 - val_loss: 0.1164 - val_acc: 0.9723\n",
      "Epoch 2/5\n",
      "60000/60000 [==============================] - 35s 575us/sample - loss: 0.0765 - acc: 0.9807 - val_loss: 0.1209 - val_acc: 0.9742\n",
      "Epoch 3/5\n",
      "60000/60000 [==============================] - 34s 573us/sample - loss: 0.0643 - acc: 0.9836 - val_loss: 0.1205 - val_acc: 0.9743\n",
      "Epoch 4/5\n",
      "60000/60000 [==============================] - 35s 581us/sample - loss: 0.0570 - acc: 0.9861 - val_loss: 0.1269 - val_acc: 0.9749\n",
      "Epoch 5/5\n",
      "60000/60000 [==============================] - 35s 589us/sample - loss: 0.0501 - acc: 0.9877 - val_loss: 0.1641 - val_acc: 0.9758\n"
     ]
    }
   ],
   "source": [
    "history = model.fit(x_train, y_train, validation_data=(x_test, y_test), epochs=5)"
   ]
  },
  {
   "cell_type": "code",
   "execution_count": 27,
   "metadata": {},
   "outputs": [
    {
     "name": "stdout",
     "output_type": "stream",
     "text": [
      "60000/60000 [==============================] - 12s 193us/sample - loss: 0.0434 - acc: 0.9898\n",
      "10000/10000 [==============================] - 2s 163us/sample - loss: 0.1641 - acc: 0.9758\n",
      "Train: 0.990, Test: 0.976\n"
     ]
    }
   ],
   "source": [
    "_, train_acc = model.evaluate(x_train, y_train, verbose=1)\n",
    "_, test_acc = model.evaluate(x_test, y_test, verbose=1)\n",
    "print('Train: %.3f, Test: %.3f' % (train_acc, test_acc))"
   ]
  },
  {
   "cell_type": "code",
   "execution_count": 28,
   "metadata": {},
   "outputs": [
    {
     "data": {
      "image/png": "[encoded data removed]",
      "text/plain": [
       "<Figure size 432x288 with 1 Axes>"
      ]
     },
     "metadata": {
      "needs_background": "light"
     },
     "output_type": "display_data"
    }
   ],
   "source": [
    "pyplot.plot(history.history['loss'], label='train')\n",
    "pyplot.plot(history.history['val_loss'], label='test')\n",
    "pyplot.legend()\n",
    "pyplot.show()"
   ]
  },
  {
   "cell_type": "code",
   "execution_count": 29,
   "metadata": {},
   "outputs": [
    {
     "data": {
      "image/png": "[encoded data removed]",
      "text/plain": [
       "<Figure size 432x288 with 1 Axes>"
      ]
     },
     "metadata": {
      "needs_background": "light"
     },
     "output_type": "display_data"
    }
   ],
   "source": [
    "pyplot.plot(history.history['acc'], label='train')\n",
    "pyplot.plot(history.history['val_acc'], label='test')\n",
    "pyplot.legend()\n",
    "pyplot.show()"
   ]
  },
  {
   "cell_type": "code",
   "execution_count": null,
   "metadata": {},
   "outputs": [],
   "source": []
  }
 ],
 "metadata": {
  "kernelspec": {
   "display_name": "Python 3",
   "language": "python",
   "name": "python3"
  },
  "language_info": {
   "codemirror_mode": {
    "name": "ipython",
    "version": 3
   },
   "file_extension": ".py",
   "mimetype": "text/x-python",
   "name": "python",
   "nbconvert_exporter": "python",
   "pygments_lexer": "ipython3",
   "version": "3.7.3"
  }
 },
 "nbformat": 4,
 "nbformat_minor": 2
}
