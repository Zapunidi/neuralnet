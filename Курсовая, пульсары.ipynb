{
 "cells": [
  {
   "cell_type": "code",
   "execution_count": 1,
   "metadata": {},
   "outputs": [
    {
     "data": {
      "text/plain": [
       "'c:\\\\Users\\\\Artem\\\\Desktop\\\\neural networks\\\\HTRU2'"
      ]
     },
     "execution_count": 1,
     "metadata": {},
     "output_type": "execute_result"
    }
   ],
   "source": [
    "import os\n",
    "os.chdir('c:\\\\Users\\\\Artem\\\\Desktop\\\\neural networks\\\\HTRU2')\n",
    "os.getcwd()"
   ]
  },
  {
   "cell_type": "code",
   "execution_count": 2,
   "metadata": {},
   "outputs": [
    {
     "data": {
      "text/plain": [
       "['column_names.csv',\n",
       " 'HTRU_2.arff',\n",
       " 'HTRU_2.csv',\n",
       " 'Readme.txt',\n",
       " 'пульсары нормализованные.csv',\n",
       " 'пульсары.txt']"
      ]
     },
     "execution_count": 2,
     "metadata": {},
     "output_type": "execute_result"
    }
   ],
   "source": [
    "os.listdir(path='.')"
   ]
  },
  {
   "cell_type": "code",
   "execution_count": 3,
   "metadata": {},
   "outputs": [],
   "source": [
    "import numpy as np\n",
    "import pandas as pd"
   ]
  },
  {
   "cell_type": "code",
   "execution_count": 4,
   "metadata": {},
   "outputs": [],
   "source": [
    "data = pd.read_csv('HTRU_2.csv', header=None)"
   ]
  },
  {
   "cell_type": "code",
   "execution_count": 5,
   "metadata": {},
   "outputs": [
    {
     "data": {
      "text/plain": [
       "(17898, 9)"
      ]
     },
     "execution_count": 5,
     "metadata": {},
     "output_type": "execute_result"
    }
   ],
   "source": [
    "data.shape"
   ]
  },
  {
   "cell_type": "code",
   "execution_count": 6,
   "metadata": {},
   "outputs": [
    {
     "data": {
      "text/html": [
       "<div>\n",
       "<style scoped>\n",
       "    .dataframe tbody tr th:only-of-type {\n",
       "        vertical-align: middle;\n",
       "    }\n",
       "\n",
       "    .dataframe tbody tr th {\n",
       "        vertical-align: top;\n",
       "    }\n",
       "\n",
       "    .dataframe thead th {\n",
       "        text-align: right;\n",
       "    }\n",
       "</style>\n",
       "<table border=\"1\" class=\"dataframe\">\n",
       "  <thead>\n",
       "    <tr style=\"text-align: right;\">\n",
       "      <th></th>\n",
       "      <th>0</th>\n",
       "      <th>1</th>\n",
       "      <th>2</th>\n",
       "      <th>3</th>\n",
       "      <th>4</th>\n",
       "      <th>5</th>\n",
       "      <th>6</th>\n",
       "      <th>7</th>\n",
       "      <th>8</th>\n",
       "    </tr>\n",
       "  </thead>\n",
       "  <tbody>\n",
       "    <tr>\n",
       "      <th>0</th>\n",
       "      <td>140.562500</td>\n",
       "      <td>55.683782</td>\n",
       "      <td>-0.234571</td>\n",
       "      <td>-0.699648</td>\n",
       "      <td>3.199833</td>\n",
       "      <td>19.110426</td>\n",
       "      <td>7.975532</td>\n",
       "      <td>74.242225</td>\n",
       "      <td>0</td>\n",
       "    </tr>\n",
       "    <tr>\n",
       "      <th>1</th>\n",
       "      <td>102.507812</td>\n",
       "      <td>58.882430</td>\n",
       "      <td>0.465318</td>\n",
       "      <td>-0.515088</td>\n",
       "      <td>1.677258</td>\n",
       "      <td>14.860146</td>\n",
       "      <td>10.576487</td>\n",
       "      <td>127.393580</td>\n",
       "      <td>0</td>\n",
       "    </tr>\n",
       "    <tr>\n",
       "      <th>2</th>\n",
       "      <td>103.015625</td>\n",
       "      <td>39.341649</td>\n",
       "      <td>0.323328</td>\n",
       "      <td>1.051164</td>\n",
       "      <td>3.121237</td>\n",
       "      <td>21.744669</td>\n",
       "      <td>7.735822</td>\n",
       "      <td>63.171909</td>\n",
       "      <td>0</td>\n",
       "    </tr>\n",
       "    <tr>\n",
       "      <th>3</th>\n",
       "      <td>136.750000</td>\n",
       "      <td>57.178449</td>\n",
       "      <td>-0.068415</td>\n",
       "      <td>-0.636238</td>\n",
       "      <td>3.642977</td>\n",
       "      <td>20.959280</td>\n",
       "      <td>6.896499</td>\n",
       "      <td>53.593661</td>\n",
       "      <td>0</td>\n",
       "    </tr>\n",
       "    <tr>\n",
       "      <th>4</th>\n",
       "      <td>88.726562</td>\n",
       "      <td>40.672225</td>\n",
       "      <td>0.600866</td>\n",
       "      <td>1.123492</td>\n",
       "      <td>1.178930</td>\n",
       "      <td>11.468720</td>\n",
       "      <td>14.269573</td>\n",
       "      <td>252.567306</td>\n",
       "      <td>0</td>\n",
       "    </tr>\n",
       "    <tr>\n",
       "      <th>5</th>\n",
       "      <td>93.570312</td>\n",
       "      <td>46.698114</td>\n",
       "      <td>0.531905</td>\n",
       "      <td>0.416721</td>\n",
       "      <td>1.636288</td>\n",
       "      <td>14.545074</td>\n",
       "      <td>10.621748</td>\n",
       "      <td>131.394004</td>\n",
       "      <td>0</td>\n",
       "    </tr>\n",
       "  </tbody>\n",
       "</table>\n",
       "</div>"
      ],
      "text/plain": [
       "            0          1         2         3         4          5          6  \\\n",
       "0  140.562500  55.683782 -0.234571 -0.699648  3.199833  19.110426   7.975532   \n",
       "1  102.507812  58.882430  0.465318 -0.515088  1.677258  14.860146  10.576487   \n",
       "2  103.015625  39.341649  0.323328  1.051164  3.121237  21.744669   7.735822   \n",
       "3  136.750000  57.178449 -0.068415 -0.636238  3.642977  20.959280   6.896499   \n",
       "4   88.726562  40.672225  0.600866  1.123492  1.178930  11.468720  14.269573   \n",
       "5   93.570312  46.698114  0.531905  0.416721  1.636288  14.545074  10.621748   \n",
       "\n",
       "            7  8  \n",
       "0   74.242225  0  \n",
       "1  127.393580  0  \n",
       "2   63.171909  0  \n",
       "3   53.593661  0  \n",
       "4  252.567306  0  \n",
       "5  131.394004  0  "
      ]
     },
     "execution_count": 6,
     "metadata": {},
     "output_type": "execute_result"
    }
   ],
   "source": [
    "data.head(6)"
   ]
  },
  {
   "cell_type": "code",
   "execution_count": 7,
   "metadata": {},
   "outputs": [],
   "source": [
    "x=data # x - такой же массив, как и data, только из него будем нарезать куски для теста виладции и тренировки\n"
   ]
  },
  {
   "cell_type": "code",
   "execution_count": 8,
   "metadata": {},
   "outputs": [],
   "source": [
    "\n",
    "x_train=np.full((14318, 8), 0) #нарезаем кусок данных для тренировки\n",
    "x_valid=np.full((1790, 8), 0) #нарезаем кусок данных для валидации\n",
    "x_test=np.full((1790, 8), 0) #нарезаем кусок данных для теста\n",
    "y_train=np.full((14318, 1), 0) #нарезаем кусок правильных ответов для тренировки\n",
    "y_valid=np.full((1790, 1), 0) #нарезаем кусок правильных ответов для валидации\n",
    "y_test=np.full((1790, 1), 0) #нарезаем кусок правильных ответов для теста\n",
    "\n",
    "\n",
    "for j in range(14318): #заполняем кусок данных для тренировки\n",
    "    for i in range(8):\n",
    "        x_train[j][i] = x[i][j]\n",
    "        \n",
    "for j in range(1790): #заполняем кусок данных для валидации\n",
    "    for i in range(8):\n",
    "        x_valid[j][i] = x[i][j+14318]\n",
    "        \n",
    "for j in range(1790): #заполняем кусок данных для теста\n",
    "    for i in range(8):\n",
    "        x_test[j][i] = x[i][j+16108]\n",
    "        \n",
    "        \n",
    "for k in range(14318): #заполняем кусок правильных ответов для тренировки\n",
    "    y_train[k]=x[8][k]\n",
    "    \n",
    "for k in range(1790): #заполняем кусок правильных ответов для валидации\n",
    "    y_valid[k]=x[8][k+14318]\n",
    "    \n",
    "for k in range(1790): #заполняем кусок правильных ответов для теста\n",
    "    y_test[k]=x[8][k+16108]"
   ]
  },
  {
   "cell_type": "code",
   "execution_count": 9,
   "metadata": {},
   "outputs": [],
   "source": [
    "def plot_metrics(history):\n",
    "  metrics =  ['loss', 'accuracy']\n",
    "  for n, metric in enumerate(metrics):\n",
    "    name = metric.replace(\"_\",\" \").capitalize()\n",
    "    plt.subplot(2,2,n+2)\n",
    "    plt.plot(history.epoch,  history.history[metric], label='Train')\n",
    "    plt.plot(history.epoch, history.history['val_'+metric], linestyle=\"--\", label='Val')\n",
    "    plt.xlabel('Epoch')\n",
    "    plt.ylabel(name)\n",
    "    if metric == 'loss':\n",
    "      plt.ylim([0, plt.ylim()[1]])\n",
    "    else:\n",
    "      plt.ylim([0,1.2])\n",
    "\n",
    "    plt.legend()\n"
   ]
  },
  {
   "cell_type": "code",
   "execution_count": 10,
   "metadata": {},
   "outputs": [],
   "source": [
    "weight_for_0 = (1 / 16259)*(17898)/2.0 #замена значений весов\n",
    "weight_for_1 = (1 / 1639)*(17898)/2.0\n",
    "\n",
    "class_weight = {0: weight_for_0, 1: weight_for_1}"
   ]
  },
  {
   "cell_type": "code",
   "execution_count": 11,
   "metadata": {},
   "outputs": [
    {
     "name": "stdout",
     "output_type": "stream",
     "text": [
      "Train on 14318 samples, validate on 1790 samples\n",
      "Epoch 1/100\n",
      "14318/14318 [==============================] - 1s 102us/sample - loss: 3.0729 - accuracy: 0.7074 - val_loss: 0.1613 - val_accuracy: 0.9514\n",
      "Epoch 2/100\n",
      "14318/14318 [==============================] - 1s 41us/sample - loss: 0.7257 - accuracy: 0.7001 - val_loss: 0.2100 - val_accuracy: 0.9324\n",
      "Epoch 3/100\n",
      "14318/14318 [==============================] - 1s 38us/sample - loss: 0.5081 - accuracy: 0.7236 - val_loss: 0.1937 - val_accuracy: 0.9492\n",
      "Epoch 4/100\n",
      "14318/14318 [==============================] - 1s 36us/sample - loss: 0.4710 - accuracy: 0.7507 - val_loss: 0.1683 - val_accuracy: 0.9704\n",
      "Epoch 5/100\n",
      "14318/14318 [==============================] - 1s 36us/sample - loss: 0.4429 - accuracy: 0.7823 - val_loss: 0.1767 - val_accuracy: 0.9603\n",
      "Epoch 6/100\n",
      "14318/14318 [==============================] - 1s 36us/sample - loss: 0.4229 - accuracy: 0.7932 - val_loss: 0.1988 - val_accuracy: 0.9698\n",
      "Epoch 7/100\n",
      "14318/14318 [==============================] - 0s 35us/sample - loss: 0.3826 - accuracy: 0.8154 - val_loss: 0.1655 - val_accuracy: 0.9637\n",
      "Epoch 8/100\n",
      "14318/14318 [==============================] - 1s 36us/sample - loss: 0.3761 - accuracy: 0.8476 - val_loss: 0.1794 - val_accuracy: 0.9648\n",
      "Epoch 9/100\n",
      "14318/14318 [==============================] - 1s 38us/sample - loss: 0.3630 - accuracy: 0.8617 - val_loss: 0.1564 - val_accuracy: 0.9737\n",
      "Epoch 10/100\n",
      "14318/14318 [==============================] - 1s 38us/sample - loss: 0.3483 - accuracy: 0.8818 - val_loss: 0.1254 - val_accuracy: 0.9816\n",
      "Epoch 11/100\n",
      "14318/14318 [==============================] - 1s 36us/sample - loss: 0.3357 - accuracy: 0.8873 - val_loss: 0.1460 - val_accuracy: 0.9732\n",
      "Epoch 12/100\n",
      "14318/14318 [==============================] - 1s 36us/sample - loss: 0.3290 - accuracy: 0.8976 - val_loss: 0.1519 - val_accuracy: 0.9659\n",
      "Epoch 13/100\n",
      "14318/14318 [==============================] - 0s 35us/sample - loss: 0.3220 - accuracy: 0.8971 - val_loss: 0.1146 - val_accuracy: 0.9810\n",
      "Epoch 14/100\n",
      "14318/14318 [==============================] - 1s 36us/sample - loss: 0.3307 - accuracy: 0.8968 - val_loss: 0.1725 - val_accuracy: 0.9642\n",
      "Epoch 15/100\n",
      "14318/14318 [==============================] - 1s 36us/sample - loss: 0.3183 - accuracy: 0.9049 - val_loss: 0.1509 - val_accuracy: 0.9793\n",
      "Epoch 16/100\n",
      "14318/14318 [==============================] - 1s 36us/sample - loss: 0.3130 - accuracy: 0.9065 - val_loss: 0.1635 - val_accuracy: 0.9821\n",
      "Epoch 17/100\n",
      "14318/14318 [==============================] - 1s 35us/sample - loss: 0.3074 - accuracy: 0.9110 - val_loss: 0.1762 - val_accuracy: 0.9782\n",
      "Epoch 18/100\n",
      "14318/14318 [==============================] - 1s 37us/sample - loss: 0.2985 - accuracy: 0.9072 - val_loss: 0.1339 - val_accuracy: 0.9816\n",
      "Epoch 19/100\n",
      "14318/14318 [==============================] - 1s 38us/sample - loss: 0.3069 - accuracy: 0.9123 - val_loss: 0.2062 - val_accuracy: 0.9682\n",
      "Epoch 20/100\n",
      "14318/14318 [==============================] - 1s 38us/sample - loss: 0.3010 - accuracy: 0.9135 - val_loss: 0.1638 - val_accuracy: 0.9715\n",
      "Epoch 21/100\n",
      "14318/14318 [==============================] - 1s 36us/sample - loss: 0.3035 - accuracy: 0.9120 - val_loss: 0.1706 - val_accuracy: 0.9698\n",
      "Epoch 22/100\n",
      "14318/14318 [==============================] - 1s 36us/sample - loss: 0.2909 - accuracy: 0.9165 - val_loss: 0.1416 - val_accuracy: 0.9788\n",
      "Epoch 23/100\n",
      "14318/14318 [==============================] - 0s 34us/sample - loss: 0.3009 - accuracy: 0.9204 - val_loss: 0.1554 - val_accuracy: 0.9743\n",
      "Epoch 24/100\n",
      "14318/14318 [==============================] - 1s 37us/sample - loss: 0.2919 - accuracy: 0.9263 - val_loss: 0.1059 - val_accuracy: 0.9821\n",
      "Epoch 25/100\n",
      "14318/14318 [==============================] - 1s 36us/sample - loss: 0.2935 - accuracy: 0.9256 - val_loss: 0.1690 - val_accuracy: 0.9737\n",
      "Epoch 26/100\n",
      "14318/14318 [==============================] - 1s 39us/sample - loss: 0.2834 - accuracy: 0.9295 - val_loss: 0.1576 - val_accuracy: 0.9670\n",
      "Epoch 27/100\n",
      "14318/14318 [==============================] - 1s 35us/sample - loss: 0.2950 - accuracy: 0.9297 - val_loss: 0.1661 - val_accuracy: 0.9799\n",
      "Epoch 28/100\n",
      "14318/14318 [==============================] - 1s 37us/sample - loss: 0.2886 - accuracy: 0.9267 - val_loss: 0.1517 - val_accuracy: 0.9721\n",
      "Epoch 29/100\n",
      "14318/14318 [==============================] - 1s 37us/sample - loss: 0.2901 - accuracy: 0.9281 - val_loss: 0.1253 - val_accuracy: 0.9771\n",
      "Epoch 30/100\n",
      "14318/14318 [==============================] - 1s 36us/sample - loss: 0.2911 - accuracy: 0.9306 - val_loss: 0.1477 - val_accuracy: 0.9754\n",
      "Epoch 31/100\n",
      "14318/14318 [==============================] - 1s 36us/sample - loss: 0.2827 - accuracy: 0.9235 - val_loss: 0.1539 - val_accuracy: 0.9749\n",
      "Epoch 32/100\n",
      "14318/14318 [==============================] - 1s 36us/sample - loss: 0.2845 - accuracy: 0.9316 - val_loss: 0.1434 - val_accuracy: 0.9821\n",
      "Epoch 33/100\n",
      "14318/14318 [==============================] - 1s 36us/sample - loss: 0.2810 - accuracy: 0.9278 - val_loss: 0.1673 - val_accuracy: 0.9760\n",
      "Epoch 34/100\n",
      "14318/14318 [==============================] - 1s 36us/sample - loss: 0.2886 - accuracy: 0.9327 - val_loss: 0.1373 - val_accuracy: 0.9804\n",
      "Epoch 35/100\n",
      "14318/14318 [==============================] - 0s 34us/sample - loss: 0.2786 - accuracy: 0.9290 - val_loss: 0.1065 - val_accuracy: 0.9821\n",
      "Epoch 36/100\n",
      "14318/14318 [==============================] - 1s 37us/sample - loss: 0.2785 - accuracy: 0.9322 - val_loss: 0.1274 - val_accuracy: 0.9827\n",
      "Epoch 37/100\n",
      "14318/14318 [==============================] - 1s 35us/sample - loss: 0.2825 - accuracy: 0.9271 - val_loss: 0.1494 - val_accuracy: 0.9793\n",
      "Epoch 38/100\n",
      "14318/14318 [==============================] - 1s 36us/sample - loss: 0.2809 - accuracy: 0.9325 - val_loss: 0.1774 - val_accuracy: 0.9648\n",
      "Epoch 39/100\n",
      "14318/14318 [==============================] - 0s 35us/sample - loss: 0.2822 - accuracy: 0.9266 - val_loss: 0.1643 - val_accuracy: 0.9771\n",
      "Epoch 40/100\n",
      "14318/14318 [==============================] - 0s 35us/sample - loss: 0.2875 - accuracy: 0.9323 - val_loss: 0.1546 - val_accuracy: 0.9816\n",
      "Epoch 41/100\n",
      "14318/14318 [==============================] - 1s 35us/sample - loss: 0.2759 - accuracy: 0.9325 - val_loss: 0.1449 - val_accuracy: 0.9827\n",
      "Epoch 42/100\n",
      "14318/14318 [==============================] - 1s 35us/sample - loss: 0.2720 - accuracy: 0.9321 - val_loss: 0.1112 - val_accuracy: 0.9810\n",
      "Epoch 43/100\n",
      "14318/14318 [==============================] - 0s 34us/sample - loss: 0.2745 - accuracy: 0.9350 - val_loss: 0.1314 - val_accuracy: 0.9816\n",
      "Epoch 44/100\n",
      "14318/14318 [==============================] - 1s 35us/sample - loss: 0.2777 - accuracy: 0.9325 - val_loss: 0.1212 - val_accuracy: 0.9804\n",
      "Epoch 45/100\n",
      "14318/14318 [==============================] - 0s 33us/sample - loss: 0.2692 - accuracy: 0.9322 - val_loss: 0.1307 - val_accuracy: 0.9804\n",
      "Epoch 46/100\n",
      "14318/14318 [==============================] - 1s 37us/sample - loss: 0.2796 - accuracy: 0.9259 - val_loss: 0.1142 - val_accuracy: 0.9827\n",
      "Epoch 47/100\n",
      "14318/14318 [==============================] - 0s 34us/sample - loss: 0.2711 - accuracy: 0.9334 - val_loss: 0.1281 - val_accuracy: 0.9810\n",
      "Epoch 48/100\n",
      "14318/14318 [==============================] - 1s 36us/sample - loss: 0.2689 - accuracy: 0.9299 - val_loss: 0.1425 - val_accuracy: 0.9838\n",
      "Epoch 49/100\n",
      "14318/14318 [==============================] - 0s 34us/sample - loss: 0.2782 - accuracy: 0.9348 - val_loss: 0.1221 - val_accuracy: 0.9872\n",
      "Epoch 50/100\n",
      "14318/14318 [==============================] - 1s 35us/sample - loss: 0.2756 - accuracy: 0.9319 - val_loss: 0.1654 - val_accuracy: 0.9816\n",
      "Epoch 51/100\n",
      "14318/14318 [==============================] - 0s 35us/sample - loss: 0.2798 - accuracy: 0.9334 - val_loss: 0.1501 - val_accuracy: 0.9827\n",
      "Epoch 52/100\n",
      "14318/14318 [==============================] - 1s 36us/sample - loss: 0.2731 - accuracy: 0.9362 - val_loss: 0.1168 - val_accuracy: 0.9832\n",
      "Epoch 53/100\n",
      "14318/14318 [==============================] - 0s 34us/sample - loss: 0.2812 - accuracy: 0.9419 - val_loss: 0.1596 - val_accuracy: 0.9799\n",
      "Epoch 54/100\n",
      "14318/14318 [==============================] - 1s 35us/sample - loss: 0.2752 - accuracy: 0.9399 - val_loss: 0.1124 - val_accuracy: 0.9832\n",
      "Epoch 55/100\n",
      "14318/14318 [==============================] - 1s 35us/sample - loss: 0.2765 - accuracy: 0.9394 - val_loss: 0.1508 - val_accuracy: 0.9838\n",
      "Epoch 56/100\n",
      "14318/14318 [==============================] - 0s 34us/sample - loss: 0.2702 - accuracy: 0.9341 - val_loss: 0.1497 - val_accuracy: 0.9715\n",
      "Epoch 57/100\n",
      "14318/14318 [==============================] - 1s 37us/sample - loss: 0.2761 - accuracy: 0.9282 - val_loss: 0.1269 - val_accuracy: 0.9832\n",
      "Epoch 58/100\n",
      "14318/14318 [==============================] - 1s 38us/sample - loss: 0.2737 - accuracy: 0.9342 - val_loss: 0.1277 - val_accuracy: 0.9754\n",
      "Epoch 59/100\n",
      "14318/14318 [==============================] - 1s 35us/sample - loss: 0.2799 - accuracy: 0.9351 - val_loss: 0.1148 - val_accuracy: 0.9866\n",
      "Epoch 60/100\n",
      "14318/14318 [==============================] - 1s 37us/sample - loss: 0.2784 - accuracy: 0.9364 - val_loss: 0.1473 - val_accuracy: 0.9821\n",
      "Epoch 61/100\n",
      "14318/14318 [==============================] - 1s 38us/sample - loss: 0.2745 - accuracy: 0.9385 - val_loss: 0.1481 - val_accuracy: 0.9804\n",
      "Epoch 62/100\n",
      "14318/14318 [==============================] - 1s 35us/sample - loss: 0.2730 - accuracy: 0.9371 - val_loss: 0.1207 - val_accuracy: 0.9855\n",
      "Epoch 63/100\n",
      "14318/14318 [==============================] - 1s 35us/sample - loss: 0.2720 - accuracy: 0.9400 - val_loss: 0.1537 - val_accuracy: 0.9810\n",
      "Epoch 64/100\n",
      "14318/14318 [==============================] - 0s 34us/sample - loss: 0.2801 - accuracy: 0.9349 - val_loss: 0.1161 - val_accuracy: 0.9838\n",
      "Epoch 65/100\n",
      "14318/14318 [==============================] - 1s 37us/sample - loss: 0.2754 - accuracy: 0.9371 - val_loss: 0.1827 - val_accuracy: 0.9743\n",
      "Epoch 66/100\n",
      "14318/14318 [==============================] - 1s 40us/sample - loss: 0.2807 - accuracy: 0.9410 - val_loss: 0.1606 - val_accuracy: 0.9838\n",
      "Epoch 67/100\n",
      "14318/14318 [==============================] - 1s 38us/sample - loss: 0.2618 - accuracy: 0.9422 - val_loss: 0.1613 - val_accuracy: 0.9832\n",
      "Epoch 68/100\n",
      "14318/14318 [==============================] - 1s 35us/sample - loss: 0.2700 - accuracy: 0.9384 - val_loss: 0.1182 - val_accuracy: 0.9832\n",
      "Epoch 69/100\n",
      "14318/14318 [==============================] - 1s 36us/sample - loss: 0.2716 - accuracy: 0.9371 - val_loss: 0.0977 - val_accuracy: 0.9849\n",
      "Epoch 70/100\n",
      "14318/14318 [==============================] - 0s 33us/sample - loss: 0.2722 - accuracy: 0.9358 - val_loss: 0.1449 - val_accuracy: 0.9777\n",
      "Epoch 71/100\n",
      "14318/14318 [==============================] - 0s 35us/sample - loss: 0.2706 - accuracy: 0.9368 - val_loss: 0.1226 - val_accuracy: 0.9793\n",
      "Epoch 72/100\n",
      "14318/14318 [==============================] - 0s 33us/sample - loss: 0.2683 - accuracy: 0.9348 - val_loss: 0.1279 - val_accuracy: 0.9799\n",
      "Epoch 73/100\n",
      "14318/14318 [==============================] - 0s 34us/sample - loss: 0.2741 - accuracy: 0.9352 - val_loss: 0.1410 - val_accuracy: 0.9810\n",
      "Epoch 74/100\n",
      "14318/14318 [==============================] - 0s 33us/sample - loss: 0.2713 - accuracy: 0.9396 - val_loss: 0.1291 - val_accuracy: 0.9838\n",
      "Epoch 75/100\n",
      "14318/14318 [==============================] - 0s 34us/sample - loss: 0.2730 - accuracy: 0.9338 - val_loss: 0.1321 - val_accuracy: 0.9838\n",
      "Epoch 76/100\n",
      "14318/14318 [==============================] - 1s 35us/sample - loss: 0.2664 - accuracy: 0.9390 - val_loss: 0.1231 - val_accuracy: 0.9838\n",
      "Epoch 77/100\n",
      "14318/14318 [==============================] - 1s 36us/sample - loss: 0.2724 - accuracy: 0.9376 - val_loss: 0.1334 - val_accuracy: 0.9827\n",
      "Epoch 78/100\n",
      "14318/14318 [==============================] - 0s 34us/sample - loss: 0.2776 - accuracy: 0.9360 - val_loss: 0.1432 - val_accuracy: 0.9804\n",
      "Epoch 79/100\n",
      "14318/14318 [==============================] - 0s 34us/sample - loss: 0.2733 - accuracy: 0.9408 - val_loss: 0.1168 - val_accuracy: 0.9827\n",
      "Epoch 80/100\n",
      "14318/14318 [==============================] - ETA: 0s - loss: 0.2733 - accuracy: 0.93 - 0s 33us/sample - loss: 0.2710 - accuracy: 0.9367 - val_loss: 0.1455 - val_accuracy: 0.9866\n",
      "Epoch 81/100\n",
      "14318/14318 [==============================] - 0s 34us/sample - loss: 0.2739 - accuracy: 0.9399 - val_loss: 0.1002 - val_accuracy: 0.9832\n",
      "Epoch 82/100\n",
      "14318/14318 [==============================] - 0s 33us/sample - loss: 0.2730 - accuracy: 0.9392 - val_loss: 0.1282 - val_accuracy: 0.9838\n",
      "Epoch 83/100\n",
      "14318/14318 [==============================] - 0s 34us/sample - loss: 0.2748 - accuracy: 0.9343 - val_loss: 0.1166 - val_accuracy: 0.9832\n",
      "Epoch 84/100\n",
      "14318/14318 [==============================] - 0s 33us/sample - loss: 0.2676 - accuracy: 0.9416 - val_loss: 0.1412 - val_accuracy: 0.9737\n",
      "Epoch 85/100\n",
      "14318/14318 [==============================] - 0s 33us/sample - loss: 0.2706 - accuracy: 0.9405 - val_loss: 0.1322 - val_accuracy: 0.9832\n",
      "Epoch 86/100\n",
      "14318/14318 [==============================] - 0s 35us/sample - loss: 0.2725 - accuracy: 0.9358 - val_loss: 0.1001 - val_accuracy: 0.9821\n",
      "Epoch 87/100\n",
      "14318/14318 [==============================] - 1s 40us/sample - loss: 0.2672 - accuracy: 0.9324 - val_loss: 0.1393 - val_accuracy: 0.9788\n",
      "Epoch 88/100\n",
      "14318/14318 [==============================] - 1s 36us/sample - loss: 0.2707 - accuracy: 0.9364 - val_loss: 0.1237 - val_accuracy: 0.9816\n",
      "Epoch 89/100\n",
      "14318/14318 [==============================] - 1s 38us/sample - loss: 0.2655 - accuracy: 0.9404 - val_loss: 0.1455 - val_accuracy: 0.9788\n",
      "Epoch 90/100\n",
      "14318/14318 [==============================] - 1s 36us/sample - loss: 0.2730 - accuracy: 0.9357 - val_loss: 0.1352 - val_accuracy: 0.9832\n",
      "Epoch 91/100\n",
      "14318/14318 [==============================] - 0s 35us/sample - loss: 0.2713 - accuracy: 0.9327 - val_loss: 0.1412 - val_accuracy: 0.9827\n",
      "Epoch 92/100\n",
      "14318/14318 [==============================] - 1s 35us/sample - loss: 0.2692 - accuracy: 0.9399 - val_loss: 0.1393 - val_accuracy: 0.9827\n",
      "Epoch 93/100\n",
      "14318/14318 [==============================] - 0s 34us/sample - loss: 0.2707 - accuracy: 0.9388 - val_loss: 0.1617 - val_accuracy: 0.9844\n",
      "Epoch 94/100\n",
      "14318/14318 [==============================] - 0s 35us/sample - loss: 0.2763 - accuracy: 0.9398 - val_loss: 0.1468 - val_accuracy: 0.9788\n",
      "Epoch 95/100\n",
      "14318/14318 [==============================] - 0s 34us/sample - loss: 0.2735 - accuracy: 0.9364 - val_loss: 0.1262 - val_accuracy: 0.9832\n",
      "Epoch 96/100\n",
      "14318/14318 [==============================] - 0s 35us/sample - loss: 0.2663 - accuracy: 0.9386 - val_loss: 0.1191 - val_accuracy: 0.9849\n",
      "Epoch 97/100\n",
      "14318/14318 [==============================] - 0s 35us/sample - loss: 0.2688 - accuracy: 0.9434 - val_loss: 0.1558 - val_accuracy: 0.9682\n",
      "Epoch 98/100\n",
      "14318/14318 [==============================] - 1s 36us/sample - loss: 0.2680 - accuracy: 0.9369 - val_loss: 0.1223 - val_accuracy: 0.9771\n",
      "Epoch 99/100\n",
      "14318/14318 [==============================] - 0s 34us/sample - loss: 0.2681 - accuracy: 0.9339 - val_loss: 0.1602 - val_accuracy: 0.9799\n",
      "Epoch 100/100\n",
      "14318/14318 [==============================] - 0s 35us/sample - loss: 0.2708 - accuracy: 0.9419 - val_loss: 0.1682 - val_accuracy: 0.9732\n"
     ]
    },
    {
     "data": {
      "text/plain": [
       "[0.2846503842143373, 0.9670391]"
      ]
     },
     "execution_count": 11,
     "metadata": {},
     "output_type": "execute_result"
    }
   ],
   "source": [
    "import tensorflow as tf\n",
    "import matplotlib.pyplot as plt\n",
    "from matplotlib import pyplot\n",
    "model = tf.keras.models.Sequential([\n",
    "\n",
    "tf.keras.layers.Dense(16, activation=tf.nn.relu),\n",
    "tf.keras.layers.Dropout(0.5),\n",
    "tf.keras.layers.Dense(32, activation=tf.nn.relu),\n",
    "tf.keras.layers.Dropout(0.5),\n",
    "tf.keras.layers.Dense(1, activation=tf.nn.sigmoid)\n",
    "])\n",
    "model.compile(optimizer='adam',\n",
    "loss='binary_crossentropy',\n",
    "metrics=['accuracy'])\n",
    "baseline_history1=model.fit(x_train, y_train, epochs=100, validation_data=(x_valid, y_valid), class_weight=class_weight)\n",
    "model.evaluate(x_test, y_test, verbose=0)"
   ]
  },
  {
   "cell_type": "code",
   "execution_count": 15,
   "metadata": {},
   "outputs": [
    {
     "data": {
      "image/png": "[encoded data removed]",
      "text/plain": [
       "<Figure size 432x288 with 2 Axes>"
      ]
     },
     "metadata": {
      "needs_background": "light"
     },
     "output_type": "display_data"
    }
   ],
   "source": [
    "plot_metrics(baseline_history1)"
   ]
  },
  {
   "cell_type": "code",
   "execution_count": 20,
   "metadata": {},
   "outputs": [],
   "source": [
    "from sklearn.metrics import confusion_matrix\n",
    "import seaborn as sns\n",
    "\n",
    "def plot_cm(labels, predictions, p=0.5):\n",
    "  cm = confusion_matrix(labels, predictions > p)\n",
    "  plt.figure(figsize=(5,5))\n",
    "  sns.heatmap(cm, annot=True, fmt=\"d\")\n",
    "  plt.title('Confusion matrix @{:.2f}'.format(p))\n",
    "  plt.ylabel('Actual label')\n",
    "  plt.xlabel('Predicted label')\n",
    "\n",
    "  print('не пульсар предсказанный как не пульсар : ', cm[0][0])\n",
    "  print('не пульсар предсказанный как пульсар : ', cm[0][1])\n",
    "  print('пульсар предсказанный как не пульсар : ', cm[1][0])\n",
    "  print('Пульсар предсказанный как пульсар : ', cm[1][1])\n",
    "  print('Всего пульсаров: ', cm[1][0]+cm[1][1])"
   ]
  },
  {
   "cell_type": "code",
   "execution_count": 21,
   "metadata": {},
   "outputs": [
    {
     "name": "stdout",
     "output_type": "stream",
     "text": [
      "loss :  0.2846503842143373\n",
      "accuracy :  0.9670391\n",
      "\n",
      "не пульсар предсказанный как не пульсар :  1708\n",
      "не пульсар предсказанный как пульсар :  55\n",
      "пульсар предсказанный как не пульсар :  4\n",
      "Пульсар предсказанный как пульсар :  23\n",
      "Всего пульсаров:  27\n"
     ]
    },
    {
     "data": {
      "image/png": "[encoded data removed]",
      "text/plain": [
       "<Figure size 360x360 with 2 Axes>"
      ]
     },
     "metadata": {
      "needs_background": "light"
     },
     "output_type": "display_data"
    }
   ],
   "source": [
    "test_predictions_baseline = model.predict(x_test)\n",
    "\n",
    "baseline_results = model.evaluate(x_test, y_test, verbose=0)\n",
    "for name, value in zip(model.metrics_names, baseline_results):\n",
    "  print(name, ': ', value)\n",
    "print()\n",
    "\n",
    "plot_cm(y_test, test_predictions_baseline)"
   ]
  },
  {
   "cell_type": "code",
   "execution_count": 23,
   "metadata": {},
   "outputs": [],
   "source": [
    "# далее всё тоже самое, только с центрированными данными"
   ]
  },
  {
   "cell_type": "code",
   "execution_count": 28,
   "metadata": {},
   "outputs": [],
   "source": [
    "datanorm = pd.read_csv('пульсары нормализованные.csv', header=None)"
   ]
  },
  {
   "cell_type": "code",
   "execution_count": 29,
   "metadata": {},
   "outputs": [
    {
     "data": {
      "text/plain": [
       "(17898, 9)"
      ]
     },
     "execution_count": 29,
     "metadata": {},
     "output_type": "execute_result"
    }
   ],
   "source": [
    "datanorm.shape"
   ]
  },
  {
   "cell_type": "code",
   "execution_count": 30,
   "metadata": {},
   "outputs": [],
   "source": [
    "a=datanorm"
   ]
  },
  {
   "cell_type": "code",
   "execution_count": 31,
   "metadata": {},
   "outputs": [],
   "source": [
    "a_train=np.full((14318, 8), 0)\n",
    "a_valid=np.full((1790, 8), 0)\n",
    "a_test=np.full((1790, 8), 0)\n",
    "b_train=np.full((14318, 1), 0)\n",
    "b_valid=np.full((1790, 1), 0)\n",
    "b_test=np.full((1790, 1), 0)\n",
    "\n",
    "\n",
    "for j in range(14318):\n",
    "    for i in range(8):\n",
    "        a_train[j][i] = a[i][j]\n",
    "        \n",
    "for j in range(1790):\n",
    "    for i in range(8):\n",
    "        a_valid[j][i] = a[i][j+14318]\n",
    "        \n",
    "for j in range(1790):\n",
    "    for i in range(8):\n",
    "        a_test[j][i] = a[i][j+16108]\n",
    "        \n",
    "        \n",
    "for k in range(14318):\n",
    "    b_train[k]=a[8][k]\n",
    "    \n",
    "for k in range(1790):\n",
    "    b_valid[k]=a[8][k+14318]\n",
    "    \n",
    "for k in range(1790):\n",
    "    b_test[k]=a[8][k+16108]"
   ]
  },
  {
   "cell_type": "code",
   "execution_count": 32,
   "metadata": {},
   "outputs": [],
   "source": [
    "weight_for_0 = (1 / 16259)*(17898)/2.0 #замена значений весов\n",
    "weight_for_1 = (1 / 1639)*(17898)/2.0\n",
    "\n",
    "class_weight = {0: weight_for_0, 1: weight_for_1}"
   ]
  },
  {
   "cell_type": "code",
   "execution_count": 33,
   "metadata": {},
   "outputs": [
    {
     "name": "stdout",
     "output_type": "stream",
     "text": [
      "Train on 14318 samples, validate on 1790 samples\n",
      "Epoch 1/100\n",
      "14318/14318 [==============================] - 1s 87us/sample - loss: 2.6529 - accuracy: 0.6173 - val_loss: 0.2407 - val_accuracy: 0.8341\n",
      "Epoch 2/100\n",
      "14318/14318 [==============================] - 1s 36us/sample - loss: 0.5955 - accuracy: 0.7215 - val_loss: 0.1799 - val_accuracy: 0.9408\n",
      "Epoch 3/100\n",
      "14318/14318 [==============================] - 1s 38us/sample - loss: 0.4829 - accuracy: 0.7649 - val_loss: 0.1915 - val_accuracy: 0.9391\n",
      "Epoch 4/100\n",
      "14318/14318 [==============================] - 1s 35us/sample - loss: 0.4439 - accuracy: 0.7901 - val_loss: 0.1718 - val_accuracy: 0.9620\n",
      "Epoch 5/100\n",
      "14318/14318 [==============================] - 1s 38us/sample - loss: 0.4304 - accuracy: 0.8209 - val_loss: 0.2352 - val_accuracy: 0.9380\n",
      "Epoch 6/100\n",
      "14318/14318 [==============================] - 1s 38us/sample - loss: 0.4001 - accuracy: 0.8550 - val_loss: 0.1967 - val_accuracy: 0.9765\n",
      "Epoch 7/100\n",
      "14318/14318 [==============================] - 1s 41us/sample - loss: 0.3985 - accuracy: 0.8704 - val_loss: 0.2433 - val_accuracy: 0.9620\n",
      "Epoch 8/100\n",
      "14318/14318 [==============================] - 1s 38us/sample - loss: 0.3722 - accuracy: 0.8813 - val_loss: 0.2086 - val_accuracy: 0.9721\n",
      "Epoch 9/100\n",
      "14318/14318 [==============================] - 1s 50us/sample - loss: 0.3695 - accuracy: 0.8859 - val_loss: 0.1871 - val_accuracy: 0.9749\n",
      "Epoch 10/100\n",
      "14318/14318 [==============================] - 1s 36us/sample - loss: 0.3564 - accuracy: 0.8945 - val_loss: 0.2037 - val_accuracy: 0.9765\n",
      "Epoch 11/100\n",
      "14318/14318 [==============================] - 1s 35us/sample - loss: 0.3459 - accuracy: 0.9010 - val_loss: 0.2005 - val_accuracy: 0.9698\n",
      "Epoch 12/100\n",
      "14318/14318 [==============================] - 0s 34us/sample - loss: 0.3512 - accuracy: 0.9055 - val_loss: 0.1677 - val_accuracy: 0.9844\n",
      "Epoch 13/100\n",
      "14318/14318 [==============================] - 1s 36us/sample - loss: 0.3507 - accuracy: 0.9086 - val_loss: 0.2024 - val_accuracy: 0.9799\n",
      "Epoch 14/100\n",
      "14318/14318 [==============================] - 0s 33us/sample - loss: 0.3401 - accuracy: 0.9117 - val_loss: 0.1776 - val_accuracy: 0.9849\n",
      "Epoch 15/100\n",
      "14318/14318 [==============================] - 1s 35us/sample - loss: 0.3349 - accuracy: 0.9186 - val_loss: 0.2166 - val_accuracy: 0.9749\n",
      "Epoch 16/100\n",
      "14318/14318 [==============================] - 1s 35us/sample - loss: 0.3342 - accuracy: 0.9205 - val_loss: 0.1823 - val_accuracy: 0.9872\n",
      "Epoch 17/100\n",
      "14318/14318 [==============================] - 1s 37us/sample - loss: 0.3307 - accuracy: 0.9204 - val_loss: 0.1884 - val_accuracy: 0.9877\n",
      "Epoch 18/100\n",
      "14318/14318 [==============================] - 1s 35us/sample - loss: 0.3231 - accuracy: 0.9292 - val_loss: 0.2191 - val_accuracy: 0.9810\n",
      "Epoch 19/100\n",
      "14318/14318 [==============================] - 1s 36us/sample - loss: 0.3281 - accuracy: 0.9216 - val_loss: 0.1766 - val_accuracy: 0.9849\n",
      "Epoch 20/100\n",
      "14318/14318 [==============================] - 0s 33us/sample - loss: 0.3220 - accuracy: 0.9264 - val_loss: 0.1749 - val_accuracy: 0.9849\n",
      "Epoch 21/100\n",
      "14318/14318 [==============================] - 1s 47us/sample - loss: 0.3173 - accuracy: 0.9318 - val_loss: 0.1566 - val_accuracy: 0.9816\n",
      "Epoch 22/100\n",
      "14318/14318 [==============================] - 1s 36us/sample - loss: 0.3137 - accuracy: 0.9347 - val_loss: 0.1938 - val_accuracy: 0.9821\n",
      "Epoch 23/100\n",
      "14318/14318 [==============================] - 1s 47us/sample - loss: 0.3156 - accuracy: 0.9343 - val_loss: 0.1601 - val_accuracy: 0.9883\n",
      "Epoch 24/100\n",
      "14318/14318 [==============================] - 1s 41us/sample - loss: 0.3198 - accuracy: 0.9357 - val_loss: 0.1849 - val_accuracy: 0.9827\n",
      "Epoch 25/100\n",
      "14318/14318 [==============================] - 1s 36us/sample - loss: 0.3251 - accuracy: 0.9317 - val_loss: 0.2015 - val_accuracy: 0.9883\n",
      "Epoch 26/100\n",
      "14318/14318 [==============================] - 1s 40us/sample - loss: 0.3076 - accuracy: 0.9428 - val_loss: 0.1354 - val_accuracy: 0.9860\n",
      "Epoch 27/100\n",
      "14318/14318 [==============================] - 1s 48us/sample - loss: 0.3119 - accuracy: 0.9427 - val_loss: 0.1687 - val_accuracy: 0.9866\n",
      "Epoch 28/100\n",
      "14318/14318 [==============================] - 1s 46us/sample - loss: 0.3161 - accuracy: 0.9411 - val_loss: 0.1715 - val_accuracy: 0.9888\n",
      "Epoch 29/100\n",
      "14318/14318 [==============================] - 1s 44us/sample - loss: 0.3064 - accuracy: 0.9444 - val_loss: 0.1664 - val_accuracy: 0.9877\n",
      "Epoch 30/100\n",
      "14318/14318 [==============================] - 1s 57us/sample - loss: 0.3059 - accuracy: 0.9452 - val_loss: 0.1698 - val_accuracy: 0.9860\n",
      "Epoch 31/100\n",
      "14318/14318 [==============================] - 1s 41us/sample - loss: 0.3030 - accuracy: 0.9450 - val_loss: 0.1681 - val_accuracy: 0.9894\n",
      "Epoch 32/100\n",
      "14318/14318 [==============================] - 1s 37us/sample - loss: 0.3075 - accuracy: 0.9452 - val_loss: 0.1666 - val_accuracy: 0.9860\n",
      "Epoch 33/100\n",
      "14318/14318 [==============================] - 0s 34us/sample - loss: 0.3091 - accuracy: 0.9439 - val_loss: 0.1669 - val_accuracy: 0.9866\n",
      "Epoch 34/100\n",
      "14318/14318 [==============================] - 0s 33us/sample - loss: 0.3022 - accuracy: 0.9497 - val_loss: 0.1815 - val_accuracy: 0.9894\n",
      "Epoch 35/100\n",
      "14318/14318 [==============================] - 0s 34us/sample - loss: 0.3047 - accuracy: 0.9485 - val_loss: 0.1606 - val_accuracy: 0.9894\n",
      "Epoch 36/100\n",
      "14318/14318 [==============================] - 0s 33us/sample - loss: 0.2979 - accuracy: 0.9471 - val_loss: 0.1572 - val_accuracy: 0.9883\n",
      "Epoch 37/100\n",
      "14318/14318 [==============================] - 1s 36us/sample - loss: 0.3093 - accuracy: 0.9427 - val_loss: 0.1491 - val_accuracy: 0.9866\n",
      "Epoch 38/100\n",
      "14318/14318 [==============================] - 0s 35us/sample - loss: 0.3019 - accuracy: 0.9441 - val_loss: 0.1432 - val_accuracy: 0.9888\n",
      "Epoch 39/100\n",
      "14318/14318 [==============================] - 1s 45us/sample - loss: 0.3043 - accuracy: 0.9493 - val_loss: 0.1949 - val_accuracy: 0.9838\n",
      "Epoch 40/100\n",
      "14318/14318 [==============================] - 0s 34us/sample - loss: 0.3026 - accuracy: 0.9448 - val_loss: 0.1520 - val_accuracy: 0.9866\n",
      "Epoch 41/100\n",
      "14318/14318 [==============================] - 0s 35us/sample - loss: 0.3053 - accuracy: 0.9448 - val_loss: 0.1738 - val_accuracy: 0.9855\n",
      "Epoch 42/100\n",
      "14318/14318 [==============================] - 1s 36us/sample - loss: 0.3024 - accuracy: 0.9469 - val_loss: 0.1929 - val_accuracy: 0.9832\n",
      "Epoch 43/100\n",
      "14318/14318 [==============================] - 0s 35us/sample - loss: 0.3076 - accuracy: 0.9459 - val_loss: 0.1787 - val_accuracy: 0.9888\n",
      "Epoch 44/100\n",
      "14318/14318 [==============================] - 1s 38us/sample - loss: 0.3031 - accuracy: 0.9512 - val_loss: 0.1790 - val_accuracy: 0.9883\n",
      "Epoch 45/100\n",
      "14318/14318 [==============================] - 1s 35us/sample - loss: 0.3020 - accuracy: 0.9477 - val_loss: 0.1576 - val_accuracy: 0.9888\n",
      "Epoch 46/100\n",
      "14318/14318 [==============================] - 0s 34us/sample - loss: 0.3036 - accuracy: 0.9478 - val_loss: 0.1777 - val_accuracy: 0.9860\n",
      "Epoch 47/100\n",
      "14318/14318 [==============================] - 0s 34us/sample - loss: 0.2961 - accuracy: 0.9477 - val_loss: 0.1554 - val_accuracy: 0.9899\n",
      "Epoch 48/100\n",
      "14318/14318 [==============================] - 0s 32us/sample - loss: 0.3014 - accuracy: 0.9494 - val_loss: 0.1651 - val_accuracy: 0.9866\n",
      "Epoch 49/100\n",
      "14318/14318 [==============================] - 0s 33us/sample - loss: 0.3067 - accuracy: 0.9465 - val_loss: 0.1328 - val_accuracy: 0.9899\n",
      "Epoch 50/100\n",
      "14318/14318 [==============================] - 1s 36us/sample - loss: 0.3076 - accuracy: 0.9487 - val_loss: 0.1693 - val_accuracy: 0.9855\n",
      "Epoch 51/100\n",
      "14318/14318 [==============================] - 1s 35us/sample - loss: 0.3012 - accuracy: 0.9461 - val_loss: 0.1796 - val_accuracy: 0.9849\n",
      "Epoch 52/100\n",
      "14318/14318 [==============================] - 0s 34us/sample - loss: 0.2964 - accuracy: 0.9464 - val_loss: 0.1261 - val_accuracy: 0.9883\n",
      "Epoch 53/100\n",
      "14318/14318 [==============================] - 1s 35us/sample - loss: 0.3007 - accuracy: 0.9464 - val_loss: 0.1637 - val_accuracy: 0.9855\n",
      "Epoch 54/100\n",
      "14318/14318 [==============================] - 0s 34us/sample - loss: 0.3018 - accuracy: 0.9473 - val_loss: 0.1714 - val_accuracy: 0.9860\n",
      "Epoch 55/100\n",
      "14318/14318 [==============================] - 0s 34us/sample - loss: 0.2908 - accuracy: 0.9482 - val_loss: 0.1817 - val_accuracy: 0.9849\n",
      "Epoch 56/100\n",
      "14318/14318 [==============================] - 0s 34us/sample - loss: 0.3032 - accuracy: 0.9490 - val_loss: 0.1709 - val_accuracy: 0.9877\n",
      "Epoch 57/100\n",
      "14318/14318 [==============================] - 0s 33us/sample - loss: 0.2991 - accuracy: 0.9535 - val_loss: 0.1560 - val_accuracy: 0.9883\n",
      "Epoch 58/100\n",
      "14318/14318 [==============================] - 0s 34us/sample - loss: 0.3050 - accuracy: 0.9471 - val_loss: 0.2073 - val_accuracy: 0.9844\n",
      "Epoch 59/100\n",
      "14318/14318 [==============================] - 0s 34us/sample - loss: 0.2973 - accuracy: 0.9462 - val_loss: 0.1925 - val_accuracy: 0.9832\n",
      "Epoch 60/100\n",
      "14318/14318 [==============================] - 0s 34us/sample - loss: 0.3008 - accuracy: 0.9494 - val_loss: 0.1985 - val_accuracy: 0.9844\n",
      "Epoch 61/100\n",
      "14318/14318 [==============================] - 0s 33us/sample - loss: 0.3032 - accuracy: 0.9466 - val_loss: 0.1646 - val_accuracy: 0.9888\n",
      "Epoch 62/100\n",
      "14318/14318 [==============================] - 0s 34us/sample - loss: 0.2953 - accuracy: 0.9486 - val_loss: 0.1612 - val_accuracy: 0.9883\n",
      "Epoch 63/100\n",
      "14318/14318 [==============================] - 0s 34us/sample - loss: 0.3013 - accuracy: 0.9515 - val_loss: 0.1717 - val_accuracy: 0.9866\n",
      "Epoch 64/100\n",
      "14318/14318 [==============================] - 0s 34us/sample - loss: 0.2984 - accuracy: 0.9488 - val_loss: 0.1628 - val_accuracy: 0.9844\n",
      "Epoch 65/100\n",
      "14318/14318 [==============================] - 0s 34us/sample - loss: 0.2956 - accuracy: 0.9480 - val_loss: 0.1451 - val_accuracy: 0.9883\n",
      "Epoch 66/100\n",
      "14318/14318 [==============================] - 0s 34us/sample - loss: 0.3009 - accuracy: 0.9463 - val_loss: 0.1576 - val_accuracy: 0.9883\n",
      "Epoch 67/100\n",
      "14318/14318 [==============================] - 0s 34us/sample - loss: 0.3042 - accuracy: 0.9504 - val_loss: 0.1842 - val_accuracy: 0.9849\n",
      "Epoch 68/100\n",
      "14318/14318 [==============================] - 0s 35us/sample - loss: 0.2997 - accuracy: 0.9509 - val_loss: 0.1889 - val_accuracy: 0.9844\n",
      "Epoch 69/100\n",
      "14318/14318 [==============================] - 0s 34us/sample - loss: 0.2927 - accuracy: 0.9490 - val_loss: 0.1393 - val_accuracy: 0.9877\n",
      "Epoch 70/100\n",
      "14318/14318 [==============================] - 0s 34us/sample - loss: 0.2952 - accuracy: 0.9494 - val_loss: 0.1313 - val_accuracy: 0.9888\n",
      "Epoch 71/100\n",
      "14318/14318 [==============================] - ETA: 0s - loss: 0.2931 - accuracy: 0.95 - 0s 33us/sample - loss: 0.2962 - accuracy: 0.9513 - val_loss: 0.1607 - val_accuracy: 0.9849\n",
      "Epoch 72/100\n",
      "14318/14318 [==============================] - 0s 33us/sample - loss: 0.2948 - accuracy: 0.9490 - val_loss: 0.1454 - val_accuracy: 0.9866\n",
      "Epoch 73/100\n",
      "14318/14318 [==============================] - 0s 34us/sample - loss: 0.2989 - accuracy: 0.9487 - val_loss: 0.1773 - val_accuracy: 0.9849\n",
      "Epoch 74/100\n",
      "14318/14318 [==============================] - 0s 34us/sample - loss: 0.2941 - accuracy: 0.9493 - val_loss: 0.1577 - val_accuracy: 0.9844\n",
      "Epoch 75/100\n",
      "14318/14318 [==============================] - 1s 35us/sample - loss: 0.3018 - accuracy: 0.9446 - val_loss: 0.1288 - val_accuracy: 0.9883\n",
      "Epoch 76/100\n",
      "14318/14318 [==============================] - 1s 38us/sample - loss: 0.2924 - accuracy: 0.9489 - val_loss: 0.1422 - val_accuracy: 0.9866\n",
      "Epoch 77/100\n",
      "14318/14318 [==============================] - 0s 35us/sample - loss: 0.3002 - accuracy: 0.9484 - val_loss: 0.1546 - val_accuracy: 0.9849\n",
      "Epoch 78/100\n",
      "14318/14318 [==============================] - 0s 34us/sample - loss: 0.3022 - accuracy: 0.9509 - val_loss: 0.1615 - val_accuracy: 0.9855\n",
      "Epoch 79/100\n",
      "14318/14318 [==============================] - 0s 34us/sample - loss: 0.3055 - accuracy: 0.9462 - val_loss: 0.1486 - val_accuracy: 0.9855\n",
      "Epoch 80/100\n",
      "14318/14318 [==============================] - 1s 35us/sample - loss: 0.2998 - accuracy: 0.9517 - val_loss: 0.1468 - val_accuracy: 0.9894\n",
      "Epoch 81/100\n",
      "14318/14318 [==============================] - 0s 34us/sample - loss: 0.2981 - accuracy: 0.9519 - val_loss: 0.1653 - val_accuracy: 0.9838\n",
      "Epoch 82/100\n",
      "14318/14318 [==============================] - 1s 35us/sample - loss: 0.2929 - accuracy: 0.9527 - val_loss: 0.1603 - val_accuracy: 0.9844\n",
      "Epoch 83/100\n",
      "14318/14318 [==============================] - 1s 53us/sample - loss: 0.2973 - accuracy: 0.9496 - val_loss: 0.1515 - val_accuracy: 0.9872\n",
      "Epoch 84/100\n",
      "14318/14318 [==============================] - 1s 36us/sample - loss: 0.2948 - accuracy: 0.9503 - val_loss: 0.1394 - val_accuracy: 0.9888\n",
      "Epoch 85/100\n",
      "14318/14318 [==============================] - 1s 39us/sample - loss: 0.3006 - accuracy: 0.9504 - val_loss: 0.1884 - val_accuracy: 0.9844\n",
      "Epoch 86/100\n",
      "14318/14318 [==============================] - 0s 34us/sample - loss: 0.2980 - accuracy: 0.9505 - val_loss: 0.1503 - val_accuracy: 0.9844\n",
      "Epoch 87/100\n",
      "14318/14318 [==============================] - 0s 33us/sample - loss: 0.3001 - accuracy: 0.9490 - val_loss: 0.1590 - val_accuracy: 0.9844\n",
      "Epoch 88/100\n",
      "14318/14318 [==============================] - 1s 37us/sample - loss: 0.2919 - accuracy: 0.9508 - val_loss: 0.1610 - val_accuracy: 0.9849\n",
      "Epoch 89/100\n",
      "14318/14318 [==============================] - 1s 37us/sample - loss: 0.2970 - accuracy: 0.9510 - val_loss: 0.1623 - val_accuracy: 0.9872\n",
      "Epoch 90/100\n",
      "14318/14318 [==============================] - 1s 36us/sample - loss: 0.2991 - accuracy: 0.9511 - val_loss: 0.1240 - val_accuracy: 0.9866\n",
      "Epoch 91/100\n",
      "14318/14318 [==============================] - 0s 34us/sample - loss: 0.3012 - accuracy: 0.9482 - val_loss: 0.1532 - val_accuracy: 0.9849\n",
      "Epoch 92/100\n",
      "14318/14318 [==============================] - 1s 35us/sample - loss: 0.2947 - accuracy: 0.9496 - val_loss: 0.1334 - val_accuracy: 0.9866\n",
      "Epoch 93/100\n",
      "14318/14318 [==============================] - 1s 36us/sample - loss: 0.3039 - accuracy: 0.9480 - val_loss: 0.1428 - val_accuracy: 0.9872\n",
      "Epoch 94/100\n",
      "14318/14318 [==============================] - 0s 34us/sample - loss: 0.2935 - accuracy: 0.9494 - val_loss: 0.1512 - val_accuracy: 0.9860\n",
      "Epoch 95/100\n",
      "14318/14318 [==============================] - 1s 39us/sample - loss: 0.2937 - accuracy: 0.9526 - val_loss: 0.1641 - val_accuracy: 0.9849\n",
      "Epoch 96/100\n",
      "14318/14318 [==============================] - 1s 42us/sample - loss: 0.2998 - accuracy: 0.9505 - val_loss: 0.1536 - val_accuracy: 0.9877\n",
      "Epoch 97/100\n",
      "14318/14318 [==============================] - 1s 39us/sample - loss: 0.2935 - accuracy: 0.9513 - val_loss: 0.1470 - val_accuracy: 0.9866\n",
      "Epoch 98/100\n",
      "14318/14318 [==============================] - 1s 38us/sample - loss: 0.2987 - accuracy: 0.9520 - val_loss: 0.1590 - val_accuracy: 0.9844\n",
      "Epoch 99/100\n",
      "14318/14318 [==============================] - 1s 54us/sample - loss: 0.2976 - accuracy: 0.9476 - val_loss: 0.1622 - val_accuracy: 0.9849\n",
      "Epoch 100/100\n",
      "14318/14318 [==============================] - 0s 34us/sample - loss: 0.3026 - accuracy: 0.9510 - val_loss: 0.1432 - val_accuracy: 0.9877\n"
     ]
    },
    {
     "data": {
      "text/plain": [
       "[0.2334181695011075, 0.9815642]"
      ]
     },
     "execution_count": 33,
     "metadata": {},
     "output_type": "execute_result"
    }
   ],
   "source": [
    "#модель с центрированными данными\n",
    "model = tf.keras.models.Sequential([\n",
    "\n",
    "tf.keras.layers.Dense(16, activation=tf.nn.relu),\n",
    "tf.keras.layers.Dropout(0.5),\n",
    "tf.keras.layers.Dense(32, activation=tf.nn.relu),\n",
    "tf.keras.layers.Dropout(0.5),\n",
    "tf.keras.layers.Dense(1, activation=tf.nn.sigmoid)\n",
    "])\n",
    "model.compile(optimizer='adam',\n",
    "loss='binary_crossentropy',\n",
    "metrics=['accuracy'])\n",
    "baseline_history2=model.fit(a_train, b_train, epochs=100, validation_data=(a_valid, b_valid), shuffle=True, class_weight = class_weight)\n",
    "model.evaluate(a_test, b_test, verbose=0)"
   ]
  },
  {
   "cell_type": "code",
   "execution_count": 37,
   "metadata": {},
   "outputs": [
    {
     "data": {
      "image/png": "[encoded data removed]",
      "text/plain": [
       "<Figure size 432x288 with 2 Axes>"
      ]
     },
     "metadata": {
      "needs_background": "light"
     },
     "output_type": "display_data"
    }
   ],
   "source": [
    "plot_metrics(baseline_history2)"
   ]
  },
  {
   "cell_type": "code",
   "execution_count": 38,
   "metadata": {},
   "outputs": [],
   "source": [
    "from sklearn.metrics import confusion_matrix\n",
    "import seaborn as sns\n",
    "\n",
    "def plot_cm(labels, predictions, p=0.5):\n",
    "  cm = confusion_matrix(labels, predictions > p)\n",
    "  plt.figure(figsize=(5,5))\n",
    "  sns.heatmap(cm, annot=True, fmt=\"d\")\n",
    "  plt.title('Confusion matrix @{:.2f}'.format(p))\n",
    "  plt.ylabel('Actual label')\n",
    "  plt.xlabel('Predicted label')\n",
    "\n",
    "  print('Правильно предсказанный не пульсар (True Negatives): ', cm[0][0])\n",
    "  print('Неправильно предсказанный пульсар (False Positives): ', cm[0][1])\n",
    "  print('Неправильно предсказанный не пульсар (False Negatives): ', cm[1][0])\n",
    "  print('Правильно предсказанный пульсар (True Positives): ', cm[1][1])\n",
    "  print('Всего пульсаров: ', cm[1][0]+cm[1][1])"
   ]
  },
  {
   "cell_type": "code",
   "execution_count": 39,
   "metadata": {},
   "outputs": [
    {
     "name": "stdout",
     "output_type": "stream",
     "text": [
      "loss :  0.2334181695011075\n",
      "accuracy :  0.9815642\n",
      "\n",
      "Правильно предсказанный не пульсар (True Negatives):  1738\n",
      "Неправильно предсказанный пульсар (False Positives):  25\n",
      "Неправильно предсказанный не пульсар (False Negatives):  8\n",
      "Правильно предсказанный пульсар (True Positives):  19\n",
      "Всего пульсаров:  27\n"
     ]
    },
    {
     "data": {
      "image/png": "[encoded data removed]",
      "text/plain": [
       "<Figure size 360x360 with 2 Axes>"
      ]
     },
     "metadata": {
      "needs_background": "light"
     },
     "output_type": "display_data"
    }
   ],
   "source": [
    "test_predictions_baseline = model.predict(a_test)\n",
    "baseline_results = model.evaluate(a_test, b_test, verbose=0)\n",
    "for name, value in zip(model.metrics_names, baseline_results):\n",
    "  print(name, ': ', value)\n",
    "print()\n",
    "\n",
    "plot_cm(b_test, test_predictions_baseline)"
   ]
  },
  {
   "cell_type": "code",
   "execution_count": null,
   "metadata": {},
   "outputs": [],
   "source": []
  }
 ],
 "metadata": {
  "kernelspec": {
   "display_name": "Python 3",
   "language": "python",
   "name": "python3"
  },
  "language_info": {
   "codemirror_mode": {
    "name": "ipython",
    "version": 3
   },
   "file_extension": ".py",
   "mimetype": "text/x-python",
   "name": "python",
   "nbconvert_exporter": "python",
   "pygments_lexer": "ipython3",
   "version": "3.7.3"
  }
 },
 "nbformat": 4,
 "nbformat_minor": 2
}
